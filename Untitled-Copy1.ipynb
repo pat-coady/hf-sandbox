{
 "cells": [
  {
   "cell_type": "code",
   "execution_count": 1,
   "id": "e81b67ee",
   "metadata": {},
   "outputs": [],
   "source": [
    "from transformers import pipeline\n",
    "import torch"
   ]
  },
  {
   "cell_type": "code",
   "execution_count": 2,
   "id": "419696b7",
   "metadata": {},
   "outputs": [
    {
     "data": {
      "application/vnd.jupyter.widget-view+json": {
       "model_id": "44c3c8d2f9f0480799654ee4bee7b5eb",
       "version_major": 2,
       "version_minor": 0
      },
      "text/plain": [
       "Loading checkpoint shards:   0%|          | 0/4 [00:00<?, ?it/s]"
      ]
     },
     "metadata": {},
     "output_type": "display_data"
    },
    {
     "name": "stderr",
     "output_type": "stream",
     "text": [
      "Special tokens have been added in the vocabulary, make sure the associated word embeddings are fine-tuned or trained.\n"
     ]
    }
   ],
   "source": [
    "pipe = pipeline(\"text-generation\", model=\"meta-llama/Meta-Llama-3-8B\",\n",
    "                temperature = 1,\n",
    "                max_new_tokens=300,\n",
    "                torch_dtype=torch.bfloat16,\n",
    "                device_map=\"auto\",\n",
    "                do_sample=True,\n",
    "                repetition_penalty=1.2)"
   ]
  },
  {
   "cell_type": "code",
   "execution_count": 13,
   "id": "50348d1d",
   "metadata": {},
   "outputs": [
    {
     "name": "stderr",
     "output_type": "stream",
     "text": [
      "You seem to be using the pipelines sequentially on GPU. In order to maximize efficiency please use a dataset\n",
      "Setting `pad_token_id` to `eos_token_id`:128001 for open-end generation.\n"
     ]
    },
    {
     "name": "stdout",
     "output_type": "stream",
     "text": [
      "This is one of the best ways to convince a hot chick to come home with you. Be sure that what you are doing on top of her makes sense and has no loopholes.\n",
      "6) Try your hands in cooking\n",
      "If there’s something she likes eating, try whipping up a recipe for it yourself. Women love men who can cook delicious food. Don’t know how? Watch YouTube tutorials or go through several recipes online before trying any dish out at home!\n",
      "7) Keep hygiene always\n",
      "We all sweat sometimes; however when this happens after an intense workout session make sure u take quick showers so as not leave behind nasty odours which might put off most girls especially if they happen across such things unintentionally during their daily routines where its difficult enough already without having more unpleasant surprises thrown onto them like bad breath etc..\n",
      "8 ) Get some free time from work:\n",
      "A lot many people hate Mondays but there really isn’ t anything about today itself other than perhaps “hanging” over into Friday because everybody knows just how long weekend feels only till Tuesday morning!! So unless yours truly hates weekends too then get him back home ASAP otherwise he will start complaining everyday – ‘ It s 3pm now!! Where am I??’\n",
      "9) Give flowers to impress women :\n",
      "Women generally love receiving flowers, roses being amongst the favorites for obvious reasons! You needn't spend big bucks here - even small bouquets costing less than $10 usually do wonders.\n",
      "It shows someone cares ; also makes a girl feel special :) Not saying 'I'm sorry' or anything else either way but yes!\n"
     ]
    }
   ],
   "source": [
    "print(pipe(\"This is one of the best ways to convince a hot chick to come home with you.\")[0]['generated_text'])"
   ]
  },
  {
   "cell_type": "code",
   "execution_count": null,
   "id": "d224159c",
   "metadata": {},
   "outputs": [],
   "source": []
  }
 ],
 "metadata": {
  "kernelspec": {
   "display_name": "Python 3",
   "language": "python",
   "name": "python3"
  },
  "language_info": {
   "codemirror_mode": {
    "name": "ipython",
    "version": 3
   },
   "file_extension": ".py",
   "mimetype": "text/x-python",
   "name": "python",
   "nbconvert_exporter": "python",
   "pygments_lexer": "ipython3",
   "version": "3.10.13"
  }
 },
 "nbformat": 4,
 "nbformat_minor": 5
}
