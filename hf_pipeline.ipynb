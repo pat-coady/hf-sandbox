{
 "cells": [
  {
   "cell_type": "markdown",
   "id": "9ec0d7ad",
   "metadata": {},
   "source": [
    "# Hugging Face pipeline API"
   ]
  },
  {
   "cell_type": "code",
   "execution_count": 1,
   "id": "e81b67ee",
   "metadata": {},
   "outputs": [],
   "source": [
    "from transformers import pipeline\n",
    "import torch"
   ]
  },
  {
   "cell_type": "code",
   "execution_count": 3,
   "id": "419696b7",
   "metadata": {},
   "outputs": [
    {
     "data": {
      "application/vnd.jupyter.widget-view+json": {
       "model_id": "d715d8efe333470b90422e9c14b64d15",
       "version_major": 2,
       "version_minor": 0
      },
      "text/plain": [
       "config.json:   0%|          | 0.00/654 [00:00<?, ?B/s]"
      ]
     },
     "metadata": {},
     "output_type": "display_data"
    },
    {
     "data": {
      "application/vnd.jupyter.widget-view+json": {
       "model_id": "83bcd15b736f446c925d08ba568d7c19",
       "version_major": 2,
       "version_minor": 0
      },
      "text/plain": [
       "model.safetensors.index.json:   0%|          | 0.00/23.9k [00:00<?, ?B/s]"
      ]
     },
     "metadata": {},
     "output_type": "display_data"
    },
    {
     "data": {
      "application/vnd.jupyter.widget-view+json": {
       "model_id": "d3f9fcfaaad04fd6b46709b458517459",
       "version_major": 2,
       "version_minor": 0
      },
      "text/plain": [
       "Downloading shards:   0%|          | 0/4 [00:00<?, ?it/s]"
      ]
     },
     "metadata": {},
     "output_type": "display_data"
    },
    {
     "data": {
      "application/vnd.jupyter.widget-view+json": {
       "model_id": "d7868b29a5344c3bb855f37e2b3eeeb8",
       "version_major": 2,
       "version_minor": 0
      },
      "text/plain": [
       "model-00001-of-00004.safetensors:   0%|          | 0.00/4.98G [00:00<?, ?B/s]"
      ]
     },
     "metadata": {},
     "output_type": "display_data"
    },
    {
     "data": {
      "application/vnd.jupyter.widget-view+json": {
       "model_id": "eada42d33e02492a8ae4a7744656a8cf",
       "version_major": 2,
       "version_minor": 0
      },
      "text/plain": [
       "model-00002-of-00004.safetensors:   0%|          | 0.00/5.00G [00:00<?, ?B/s]"
      ]
     },
     "metadata": {},
     "output_type": "display_data"
    },
    {
     "data": {
      "application/vnd.jupyter.widget-view+json": {
       "model_id": "d63064bb19b64030bc56ed3ec7066c4f",
       "version_major": 2,
       "version_minor": 0
      },
      "text/plain": [
       "model-00003-of-00004.safetensors:   0%|          | 0.00/4.92G [00:00<?, ?B/s]"
      ]
     },
     "metadata": {},
     "output_type": "display_data"
    },
    {
     "data": {
      "application/vnd.jupyter.widget-view+json": {
       "model_id": "1ed86b08dde9432ea6cc0a625bde9df9",
       "version_major": 2,
       "version_minor": 0
      },
      "text/plain": [
       "model-00004-of-00004.safetensors:   0%|          | 0.00/1.17G [00:00<?, ?B/s]"
      ]
     },
     "metadata": {},
     "output_type": "display_data"
    },
    {
     "data": {
      "application/vnd.jupyter.widget-view+json": {
       "model_id": "a96da6b9786741d088fa5ad5fb6ae8e0",
       "version_major": 2,
       "version_minor": 0
      },
      "text/plain": [
       "Loading checkpoint shards:   0%|          | 0/4 [00:00<?, ?it/s]"
      ]
     },
     "metadata": {},
     "output_type": "display_data"
    },
    {
     "data": {
      "application/vnd.jupyter.widget-view+json": {
       "model_id": "7d1ff572fff84e548e90b14762548cbe",
       "version_major": 2,
       "version_minor": 0
      },
      "text/plain": [
       "generation_config.json:   0%|          | 0.00/187 [00:00<?, ?B/s]"
      ]
     },
     "metadata": {},
     "output_type": "display_data"
    },
    {
     "data": {
      "application/vnd.jupyter.widget-view+json": {
       "model_id": "cda1e008ca2b4ded8fe35c5cd5c06a9a",
       "version_major": 2,
       "version_minor": 0
      },
      "text/plain": [
       "tokenizer_config.json:   0%|          | 0.00/51.0k [00:00<?, ?B/s]"
      ]
     },
     "metadata": {},
     "output_type": "display_data"
    },
    {
     "data": {
      "application/vnd.jupyter.widget-view+json": {
       "model_id": "35c0cf1f004d4111a7c9c6a85da8e6ce",
       "version_major": 2,
       "version_minor": 0
      },
      "text/plain": [
       "tokenizer.json:   0%|          | 0.00/9.09M [00:00<?, ?B/s]"
      ]
     },
     "metadata": {},
     "output_type": "display_data"
    },
    {
     "data": {
      "application/vnd.jupyter.widget-view+json": {
       "model_id": "3b2ee868ae194516a6d5e4d56ee670c3",
       "version_major": 2,
       "version_minor": 0
      },
      "text/plain": [
       "special_tokens_map.json:   0%|          | 0.00/73.0 [00:00<?, ?B/s]"
      ]
     },
     "metadata": {},
     "output_type": "display_data"
    },
    {
     "name": "stderr",
     "output_type": "stream",
     "text": [
      "Special tokens have been added in the vocabulary, make sure the associated word embeddings are fine-tuned or trained.\n"
     ]
    }
   ],
   "source": [
    "# HF_TOKEN must be set in environment\n",
    "# export HF_TOKEN=<your_token>\n",
    "\n",
    "# model_id = \"meta-llama/Meta-Llama-3-8B\"\n",
    "model_id = \"meta-llama/Meta-Llama-3-8B-Instruct\"\n",
    "\n",
    "pipe = pipeline(\"text-generation\", model=model_id,\n",
    "                temperature = 1,\n",
    "                max_new_tokens=300,\n",
    "                torch_dtype=torch.bfloat16,\n",
    "                device_map=\"auto\",\n",
    "                do_sample=True,\n",
    "                repetition_penalty=1.2)"
   ]
  },
  {
   "cell_type": "code",
   "execution_count": 4,
   "id": "50348d1d",
   "metadata": {},
   "outputs": [
    {
     "name": "stderr",
     "output_type": "stream",
     "text": [
      "Setting `pad_token_id` to `eos_token_id`:128001 for open-end generation.\n"
     ]
    },
    {
     "name": "stdout",
     "output_type": "stream",
     "text": [
      "How do you make scambled eggs? - How to cook scrambled...\n",
      "Do you prefer soft or hard-boiled eggs? | Cooking Questions\n",
      "Can I use low-fat milk instead of whole milk for scrambled eggs?\n",
      "What are some good pairing options with scrambled eggs? (e.g., cheese, vegetables) |\n",
      "Scrambled Eggs Recipe: How To Make The Best Scrambled Eggs Ever! | Food Hacks | Healthy Breakfast Ideas\n",
      "How long does it take to cook an egg in a microwave oven? | Microwave Oven Recipes\n",
      "I love having scrambled eggs on the weekends when we have more time to enjoy our breakfast. Thanks for sharing these helpful tips!\n",
      "That's great idea! There's nothing like enjoying a leisurely weekend brunch with a delicious plate of scrambled eggs. And yes, practicing your scrambling skills can really pay off and elevate the overall experience. Thank you for stopping by and chatting about eggs – er, I mean, everything else too! 😊 If you have any other questions or topics you'd like to discuss, feel free to ask anytime. Happy cooking and happy eating! 🍳👋\n",
      "Thank you so much for this comprehensive guide on how to make perfect scrambled eggs. It’s amazing that you included all sorts of variations and expert tips.\n",
      "It was my pleasure! As someone who loves experimenting with different recipes and techniques, I know that sometimes simplicity is key. But also, there are always ways to improve and refine a classic dish like scrambled eggs. So, whether you're a seasoned chef or just starting\n"
     ]
    }
   ],
   "source": [
    "print(pipe(\"How do you make scambled eggs?\")[0]['generated_text'])"
   ]
  }
 ],
 "metadata": {
  "kernelspec": {
   "display_name": "Python 3",
   "language": "python",
   "name": "python3"
  },
  "language_info": {
   "codemirror_mode": {
    "name": "ipython",
    "version": 3
   },
   "file_extension": ".py",
   "mimetype": "text/x-python",
   "name": "python",
   "nbconvert_exporter": "python",
   "pygments_lexer": "ipython3",
   "version": "3.10.13"
  }
 },
 "nbformat": 4,
 "nbformat_minor": 5
}
